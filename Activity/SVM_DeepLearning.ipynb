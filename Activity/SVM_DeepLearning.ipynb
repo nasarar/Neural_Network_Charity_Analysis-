{
 "metadata": {
  "language_info": {
   "codemirror_mode": {
    "name": "ipython",
    "version": 3
   },
   "file_extension": ".py",
   "mimetype": "text/x-python",
   "name": "python",
   "nbconvert_exporter": "python",
   "pygments_lexer": "ipython3",
   "version": "3.7.9"
  },
  "orig_nbformat": 2,
  "kernelspec": {
   "name": "pythondata",
   "display_name": "Python 3.7.9 64-bit ('PythonData': conda)"
  }
 },
 "nbformat": 4,
 "nbformat_minor": 2,
 "cells": [
  {
   "cell_type": "code",
   "execution_count": 1,
   "metadata": {},
   "outputs": [],
   "source": [
    "#import dependencies\n",
    "from sklearn.model_selection import train_test_split\n",
    "from sklearn.preprocessing import StandardScaler, OneHotEncoder\n",
    "from sklearn.metrics import accuracy_score\n",
    "from sklearn.svm import SVC\n",
    "import pandas as pd\n",
    "import tensorflow as tf"
   ]
  },
  {
   "cell_type": "code",
   "execution_count": 2,
   "metadata": {},
   "outputs": [
    {
     "output_type": "execute_result",
     "data": {
      "text/plain": [
       "   Age       Job Marital_Status               Education Default_Credit  \\\n",
       "0   56     other        married       Primary_Education             no   \n",
       "1   37  services        married     Secondary_Education             no   \n",
       "2   40     admin        married       Primary_Education             no   \n",
       "3   56  services        married     Secondary_Education             no   \n",
       "4   59     admin        married  Professional_Education             no   \n",
       "\n",
       "  Housing_Loan Personal_Loan Subscribed  \n",
       "0           no            no         no  \n",
       "1          yes            no         no  \n",
       "2           no            no         no  \n",
       "3           no           yes         no  \n",
       "4           no            no         no  "
      ],
      "text/html": "<div>\n<style scoped>\n    .dataframe tbody tr th:only-of-type {\n        vertical-align: middle;\n    }\n\n    .dataframe tbody tr th {\n        vertical-align: top;\n    }\n\n    .dataframe thead th {\n        text-align: right;\n    }\n</style>\n<table border=\"1\" class=\"dataframe\">\n  <thead>\n    <tr style=\"text-align: right;\">\n      <th></th>\n      <th>Age</th>\n      <th>Job</th>\n      <th>Marital_Status</th>\n      <th>Education</th>\n      <th>Default_Credit</th>\n      <th>Housing_Loan</th>\n      <th>Personal_Loan</th>\n      <th>Subscribed</th>\n    </tr>\n  </thead>\n  <tbody>\n    <tr>\n      <th>0</th>\n      <td>56</td>\n      <td>other</td>\n      <td>married</td>\n      <td>Primary_Education</td>\n      <td>no</td>\n      <td>no</td>\n      <td>no</td>\n      <td>no</td>\n    </tr>\n    <tr>\n      <th>1</th>\n      <td>37</td>\n      <td>services</td>\n      <td>married</td>\n      <td>Secondary_Education</td>\n      <td>no</td>\n      <td>yes</td>\n      <td>no</td>\n      <td>no</td>\n    </tr>\n    <tr>\n      <th>2</th>\n      <td>40</td>\n      <td>admin</td>\n      <td>married</td>\n      <td>Primary_Education</td>\n      <td>no</td>\n      <td>no</td>\n      <td>no</td>\n      <td>no</td>\n    </tr>\n    <tr>\n      <th>3</th>\n      <td>56</td>\n      <td>services</td>\n      <td>married</td>\n      <td>Secondary_Education</td>\n      <td>no</td>\n      <td>no</td>\n      <td>yes</td>\n      <td>no</td>\n    </tr>\n    <tr>\n      <th>4</th>\n      <td>59</td>\n      <td>admin</td>\n      <td>married</td>\n      <td>Professional_Education</td>\n      <td>no</td>\n      <td>no</td>\n      <td>no</td>\n      <td>no</td>\n    </tr>\n  </tbody>\n</table>\n</div>"
     },
     "metadata": {},
     "execution_count": 2
    }
   ],
   "source": [
    "#import dataset\n",
    "tele_df= pd.read_csv('bank_telemarketing.csv')\n",
    "tele_df.head()"
   ]
  },
  {
   "source": [
    "Eventhough SVM can handle tabular data. Process the data for both models to ensure fairo comparison"
   ],
   "cell_type": "markdown",
   "metadata": {}
  },
  {
   "cell_type": "code",
   "execution_count": 3,
   "metadata": {},
   "outputs": [
    {
     "output_type": "execute_result",
     "data": {
      "text/plain": [
       "Job               9\n",
       "Marital_Status    3\n",
       "Education         4\n",
       "Default_Credit    2\n",
       "Housing_Loan      2\n",
       "Personal_Loan     2\n",
       "Subscribed        2\n",
       "dtype: int64"
      ]
     },
     "metadata": {},
     "execution_count": 3
    }
   ],
   "source": [
    "#ONE HOT ENCODER\n",
    "#generate categorical variable list\n",
    "tele_cat= tele_df.dtypes[tele_df.dtypes=='object'].index.tolist()\n",
    "\n",
    "#check the number of unique values in each column\n",
    "tele_df[tele_cat].nunique()"
   ]
  },
  {
   "cell_type": "code",
   "execution_count": 5,
   "metadata": {},
   "outputs": [
    {
     "output_type": "execute_result",
     "data": {
      "text/plain": [
       "   Job_admin  Job_blue-collar  Job_entrepreneur  Job_management  Job_other  \\\n",
       "0        0.0              0.0               0.0             0.0        1.0   \n",
       "1        0.0              0.0               0.0             0.0        0.0   \n",
       "2        1.0              0.0               0.0             0.0        0.0   \n",
       "3        0.0              0.0               0.0             0.0        0.0   \n",
       "4        1.0              0.0               0.0             0.0        0.0   \n",
       "\n",
       "   Job_retired  Job_self-employed  Job_services  Job_technician  \\\n",
       "0          0.0                0.0           0.0             0.0   \n",
       "1          0.0                0.0           1.0             0.0   \n",
       "2          0.0                0.0           0.0             0.0   \n",
       "3          0.0                0.0           1.0             0.0   \n",
       "4          0.0                0.0           0.0             0.0   \n",
       "\n",
       "   Marital_Status_divorced  ...  Education_Secondary_Education  \\\n",
       "0                      0.0  ...                            0.0   \n",
       "1                      0.0  ...                            1.0   \n",
       "2                      0.0  ...                            0.0   \n",
       "3                      0.0  ...                            1.0   \n",
       "4                      0.0  ...                            0.0   \n",
       "\n",
       "   Education_Tertiary_Education  Default_Credit_no  Default_Credit_yes  \\\n",
       "0                           0.0                1.0                 0.0   \n",
       "1                           0.0                1.0                 0.0   \n",
       "2                           0.0                1.0                 0.0   \n",
       "3                           0.0                1.0                 0.0   \n",
       "4                           0.0                1.0                 0.0   \n",
       "\n",
       "   Housing_Loan_no  Housing_Loan_yes  Personal_Loan_no  Personal_Loan_yes  \\\n",
       "0              1.0               0.0               1.0                0.0   \n",
       "1              0.0               1.0               1.0                0.0   \n",
       "2              1.0               0.0               1.0                0.0   \n",
       "3              1.0               0.0               0.0                1.0   \n",
       "4              1.0               0.0               1.0                0.0   \n",
       "\n",
       "   Subscribed_no  Subscribed_yes  \n",
       "0            1.0             0.0  \n",
       "1            1.0             0.0  \n",
       "2            1.0             0.0  \n",
       "3            1.0             0.0  \n",
       "4            1.0             0.0  \n",
       "\n",
       "[5 rows x 24 columns]"
      ],
      "text/html": "<div>\n<style scoped>\n    .dataframe tbody tr th:only-of-type {\n        vertical-align: middle;\n    }\n\n    .dataframe tbody tr th {\n        vertical-align: top;\n    }\n\n    .dataframe thead th {\n        text-align: right;\n    }\n</style>\n<table border=\"1\" class=\"dataframe\">\n  <thead>\n    <tr style=\"text-align: right;\">\n      <th></th>\n      <th>Job_admin</th>\n      <th>Job_blue-collar</th>\n      <th>Job_entrepreneur</th>\n      <th>Job_management</th>\n      <th>Job_other</th>\n      <th>Job_retired</th>\n      <th>Job_self-employed</th>\n      <th>Job_services</th>\n      <th>Job_technician</th>\n      <th>Marital_Status_divorced</th>\n      <th>...</th>\n      <th>Education_Secondary_Education</th>\n      <th>Education_Tertiary_Education</th>\n      <th>Default_Credit_no</th>\n      <th>Default_Credit_yes</th>\n      <th>Housing_Loan_no</th>\n      <th>Housing_Loan_yes</th>\n      <th>Personal_Loan_no</th>\n      <th>Personal_Loan_yes</th>\n      <th>Subscribed_no</th>\n      <th>Subscribed_yes</th>\n    </tr>\n  </thead>\n  <tbody>\n    <tr>\n      <th>0</th>\n      <td>0.0</td>\n      <td>0.0</td>\n      <td>0.0</td>\n      <td>0.0</td>\n      <td>1.0</td>\n      <td>0.0</td>\n      <td>0.0</td>\n      <td>0.0</td>\n      <td>0.0</td>\n      <td>0.0</td>\n      <td>...</td>\n      <td>0.0</td>\n      <td>0.0</td>\n      <td>1.0</td>\n      <td>0.0</td>\n      <td>1.0</td>\n      <td>0.0</td>\n      <td>1.0</td>\n      <td>0.0</td>\n      <td>1.0</td>\n      <td>0.0</td>\n    </tr>\n    <tr>\n      <th>1</th>\n      <td>0.0</td>\n      <td>0.0</td>\n      <td>0.0</td>\n      <td>0.0</td>\n      <td>0.0</td>\n      <td>0.0</td>\n      <td>0.0</td>\n      <td>1.0</td>\n      <td>0.0</td>\n      <td>0.0</td>\n      <td>...</td>\n      <td>1.0</td>\n      <td>0.0</td>\n      <td>1.0</td>\n      <td>0.0</td>\n      <td>0.0</td>\n      <td>1.0</td>\n      <td>1.0</td>\n      <td>0.0</td>\n      <td>1.0</td>\n      <td>0.0</td>\n    </tr>\n    <tr>\n      <th>2</th>\n      <td>1.0</td>\n      <td>0.0</td>\n      <td>0.0</td>\n      <td>0.0</td>\n      <td>0.0</td>\n      <td>0.0</td>\n      <td>0.0</td>\n      <td>0.0</td>\n      <td>0.0</td>\n      <td>0.0</td>\n      <td>...</td>\n      <td>0.0</td>\n      <td>0.0</td>\n      <td>1.0</td>\n      <td>0.0</td>\n      <td>1.0</td>\n      <td>0.0</td>\n      <td>1.0</td>\n      <td>0.0</td>\n      <td>1.0</td>\n      <td>0.0</td>\n    </tr>\n    <tr>\n      <th>3</th>\n      <td>0.0</td>\n      <td>0.0</td>\n      <td>0.0</td>\n      <td>0.0</td>\n      <td>0.0</td>\n      <td>0.0</td>\n      <td>0.0</td>\n      <td>1.0</td>\n      <td>0.0</td>\n      <td>0.0</td>\n      <td>...</td>\n      <td>1.0</td>\n      <td>0.0</td>\n      <td>1.0</td>\n      <td>0.0</td>\n      <td>1.0</td>\n      <td>0.0</td>\n      <td>0.0</td>\n      <td>1.0</td>\n      <td>1.0</td>\n      <td>0.0</td>\n    </tr>\n    <tr>\n      <th>4</th>\n      <td>1.0</td>\n      <td>0.0</td>\n      <td>0.0</td>\n      <td>0.0</td>\n      <td>0.0</td>\n      <td>0.0</td>\n      <td>0.0</td>\n      <td>0.0</td>\n      <td>0.0</td>\n      <td>0.0</td>\n      <td>...</td>\n      <td>0.0</td>\n      <td>0.0</td>\n      <td>1.0</td>\n      <td>0.0</td>\n      <td>1.0</td>\n      <td>0.0</td>\n      <td>1.0</td>\n      <td>0.0</td>\n      <td>1.0</td>\n      <td>0.0</td>\n    </tr>\n  </tbody>\n</table>\n<p>5 rows × 24 columns</p>\n</div>"
     },
     "metadata": {},
     "execution_count": 5
    }
   ],
   "source": [
    "#create one hot encoder instance\n",
    "enc= OneHotEncoder(sparse=False)\n",
    "\n",
    "#fit and transform onehotencoder using categorical variable list\n",
    "encode_df= pd.DataFrame(enc.fit_transform(tele_df[tele_cat]))\n",
    "\n",
    "#add the encoded variable names to the dataframe\n",
    "encode_df.columns= enc.get_feature_names(tele_cat)\n",
    "encode_df.head()"
   ]
  },
  {
   "cell_type": "code",
   "execution_count": 6,
   "metadata": {},
   "outputs": [
    {
     "output_type": "execute_result",
     "data": {
      "text/plain": [
       "   Age  Job_admin  Job_blue-collar  Job_entrepreneur  Job_management  \\\n",
       "0   56        0.0              0.0               0.0             0.0   \n",
       "1   37        0.0              0.0               0.0             0.0   \n",
       "2   40        1.0              0.0               0.0             0.0   \n",
       "3   56        0.0              0.0               0.0             0.0   \n",
       "4   59        1.0              0.0               0.0             0.0   \n",
       "\n",
       "   Job_other  Job_retired  Job_self-employed  Job_services  Job_technician  \\\n",
       "0        1.0          0.0                0.0           0.0             0.0   \n",
       "1        0.0          0.0                0.0           1.0             0.0   \n",
       "2        0.0          0.0                0.0           0.0             0.0   \n",
       "3        0.0          0.0                0.0           1.0             0.0   \n",
       "4        0.0          0.0                0.0           0.0             0.0   \n",
       "\n",
       "   ...  Education_Secondary_Education  Education_Tertiary_Education  \\\n",
       "0  ...                            0.0                           0.0   \n",
       "1  ...                            1.0                           0.0   \n",
       "2  ...                            0.0                           0.0   \n",
       "3  ...                            1.0                           0.0   \n",
       "4  ...                            0.0                           0.0   \n",
       "\n",
       "   Default_Credit_no  Default_Credit_yes  Housing_Loan_no  Housing_Loan_yes  \\\n",
       "0                1.0                 0.0              1.0               0.0   \n",
       "1                1.0                 0.0              0.0               1.0   \n",
       "2                1.0                 0.0              1.0               0.0   \n",
       "3                1.0                 0.0              1.0               0.0   \n",
       "4                1.0                 0.0              1.0               0.0   \n",
       "\n",
       "   Personal_Loan_no  Personal_Loan_yes  Subscribed_no  Subscribed_yes  \n",
       "0               1.0                0.0            1.0             0.0  \n",
       "1               1.0                0.0            1.0             0.0  \n",
       "2               1.0                0.0            1.0             0.0  \n",
       "3               0.0                1.0            1.0             0.0  \n",
       "4               1.0                0.0            1.0             0.0  \n",
       "\n",
       "[5 rows x 25 columns]"
      ],
      "text/html": "<div>\n<style scoped>\n    .dataframe tbody tr th:only-of-type {\n        vertical-align: middle;\n    }\n\n    .dataframe tbody tr th {\n        vertical-align: top;\n    }\n\n    .dataframe thead th {\n        text-align: right;\n    }\n</style>\n<table border=\"1\" class=\"dataframe\">\n  <thead>\n    <tr style=\"text-align: right;\">\n      <th></th>\n      <th>Age</th>\n      <th>Job_admin</th>\n      <th>Job_blue-collar</th>\n      <th>Job_entrepreneur</th>\n      <th>Job_management</th>\n      <th>Job_other</th>\n      <th>Job_retired</th>\n      <th>Job_self-employed</th>\n      <th>Job_services</th>\n      <th>Job_technician</th>\n      <th>...</th>\n      <th>Education_Secondary_Education</th>\n      <th>Education_Tertiary_Education</th>\n      <th>Default_Credit_no</th>\n      <th>Default_Credit_yes</th>\n      <th>Housing_Loan_no</th>\n      <th>Housing_Loan_yes</th>\n      <th>Personal_Loan_no</th>\n      <th>Personal_Loan_yes</th>\n      <th>Subscribed_no</th>\n      <th>Subscribed_yes</th>\n    </tr>\n  </thead>\n  <tbody>\n    <tr>\n      <th>0</th>\n      <td>56</td>\n      <td>0.0</td>\n      <td>0.0</td>\n      <td>0.0</td>\n      <td>0.0</td>\n      <td>1.0</td>\n      <td>0.0</td>\n      <td>0.0</td>\n      <td>0.0</td>\n      <td>0.0</td>\n      <td>...</td>\n      <td>0.0</td>\n      <td>0.0</td>\n      <td>1.0</td>\n      <td>0.0</td>\n      <td>1.0</td>\n      <td>0.0</td>\n      <td>1.0</td>\n      <td>0.0</td>\n      <td>1.0</td>\n      <td>0.0</td>\n    </tr>\n    <tr>\n      <th>1</th>\n      <td>37</td>\n      <td>0.0</td>\n      <td>0.0</td>\n      <td>0.0</td>\n      <td>0.0</td>\n      <td>0.0</td>\n      <td>0.0</td>\n      <td>0.0</td>\n      <td>1.0</td>\n      <td>0.0</td>\n      <td>...</td>\n      <td>1.0</td>\n      <td>0.0</td>\n      <td>1.0</td>\n      <td>0.0</td>\n      <td>0.0</td>\n      <td>1.0</td>\n      <td>1.0</td>\n      <td>0.0</td>\n      <td>1.0</td>\n      <td>0.0</td>\n    </tr>\n    <tr>\n      <th>2</th>\n      <td>40</td>\n      <td>1.0</td>\n      <td>0.0</td>\n      <td>0.0</td>\n      <td>0.0</td>\n      <td>0.0</td>\n      <td>0.0</td>\n      <td>0.0</td>\n      <td>0.0</td>\n      <td>0.0</td>\n      <td>...</td>\n      <td>0.0</td>\n      <td>0.0</td>\n      <td>1.0</td>\n      <td>0.0</td>\n      <td>1.0</td>\n      <td>0.0</td>\n      <td>1.0</td>\n      <td>0.0</td>\n      <td>1.0</td>\n      <td>0.0</td>\n    </tr>\n    <tr>\n      <th>3</th>\n      <td>56</td>\n      <td>0.0</td>\n      <td>0.0</td>\n      <td>0.0</td>\n      <td>0.0</td>\n      <td>0.0</td>\n      <td>0.0</td>\n      <td>0.0</td>\n      <td>1.0</td>\n      <td>0.0</td>\n      <td>...</td>\n      <td>1.0</td>\n      <td>0.0</td>\n      <td>1.0</td>\n      <td>0.0</td>\n      <td>1.0</td>\n      <td>0.0</td>\n      <td>0.0</td>\n      <td>1.0</td>\n      <td>1.0</td>\n      <td>0.0</td>\n    </tr>\n    <tr>\n      <th>4</th>\n      <td>59</td>\n      <td>1.0</td>\n      <td>0.0</td>\n      <td>0.0</td>\n      <td>0.0</td>\n      <td>0.0</td>\n      <td>0.0</td>\n      <td>0.0</td>\n      <td>0.0</td>\n      <td>0.0</td>\n      <td>...</td>\n      <td>0.0</td>\n      <td>0.0</td>\n      <td>1.0</td>\n      <td>0.0</td>\n      <td>1.0</td>\n      <td>0.0</td>\n      <td>1.0</td>\n      <td>0.0</td>\n      <td>1.0</td>\n      <td>0.0</td>\n    </tr>\n  </tbody>\n</table>\n<p>5 rows × 25 columns</p>\n</div>"
     },
     "metadata": {},
     "execution_count": 6
    }
   ],
   "source": [
    "#merge encoded features and drop originals\n",
    "tele_df= tele_df.merge(encode_df, left_index=True, right_index=True)\n",
    "tele_df= tele_df.drop(tele_cat, 1)\n",
    "tele_df.head()\n"
   ]
  },
  {
   "source": [
    "After cleaning the data. \n",
    "\n",
    "find features and target\n",
    "\n",
    "Split into training and testing sets\n",
    "\n",
    "standardize numerical variables"
   ],
   "cell_type": "markdown",
   "metadata": {}
  },
  {
   "cell_type": "code",
   "execution_count": 8,
   "metadata": {},
   "outputs": [],
   "source": [
    "#remove loan status target from features data\n",
    "y= tele_df.Subscribed_yes.values\n",
    "X= tele_df.drop(columns=['Subscribed_yes', 'Subscribed_no']).values\n",
    "\n",
    "#split into train/test sets\n",
    "X_train, X_test, y_train, y_test= train_test_split(X, y, random_state=42, stratify=y)\n",
    "\n",
    "#create standard scaler instance\n",
    "scaler= StandardScaler()\n",
    "\n",
    "#fit the standard scaler\n",
    "X_scaler= scaler.fit(X_train)\n",
    "\n",
    "#scale the data\n",
    "X_train_scaled= X_scaler.transform(X_train)\n",
    "X_test_scaled= X_scaler.transform(X_test)"
   ]
  },
  {
   "source": [
    "Dataset is now ready for both models after standardization"
   ],
   "cell_type": "markdown",
   "metadata": {}
  },
  {
   "cell_type": "code",
   "execution_count": 9,
   "metadata": {},
   "outputs": [
    {
     "output_type": "stream",
     "name": "stdout",
     "text": [
      "SVM model accuracy: 0.873\n"
     ]
    }
   ],
   "source": [
    "#create SVM model\n",
    "svm= SVC(kernel='linear')\n",
    "\n",
    "#train model\n",
    "svm.fit(X_train, y_train)\n",
    "\n",
    "#evaluate the model\n",
    "y_pred= svm.predict(X_test_scaled)\n",
    "print(f'SVM model accuracy: {accuracy_score(y_test, y_pred):.3f}')"
   ]
  },
  {
   "cell_type": "code",
   "execution_count": 11,
   "metadata": {},
   "outputs": [
    {
     "output_type": "stream",
     "name": "stdout",
     "text": [
      "Epoch 1/50\n",
      "715/715 [==============================] - 1s 765us/step - loss: 0.4854 - accuracy: 0.8119\n",
      "Epoch 2/50\n",
      "715/715 [==============================] - 0s 685us/step - loss: 0.3772 - accuracy: 0.8732\n",
      "Epoch 3/50\n",
      "715/715 [==============================] - 0s 676us/step - loss: 0.3731 - accuracy: 0.8719\n",
      "Epoch 4/50\n",
      "715/715 [==============================] - 0s 636us/step - loss: 0.3681 - accuracy: 0.8736\n",
      "Epoch 5/50\n",
      "715/715 [==============================] - 1s 762us/step - loss: 0.3639 - accuracy: 0.8762\n",
      "Epoch 6/50\n",
      "715/715 [==============================] - 1s 749us/step - loss: 0.3640 - accuracy: 0.8751\n",
      "Epoch 7/50\n",
      "715/715 [==============================] - 0s 612us/step - loss: 0.3609 - accuracy: 0.8776\n",
      "Epoch 8/50\n",
      "715/715 [==============================] - 0s 675us/step - loss: 0.3662 - accuracy: 0.8741\n",
      "Epoch 9/50\n",
      "715/715 [==============================] - 0s 655us/step - loss: 0.3696 - accuracy: 0.8719\n",
      "Epoch 10/50\n",
      "715/715 [==============================] - 0s 667us/step - loss: 0.3718 - accuracy: 0.8704\n",
      "Epoch 11/50\n",
      "715/715 [==============================] - 0s 661us/step - loss: 0.3591 - accuracy: 0.8775\n",
      "Epoch 12/50\n",
      "715/715 [==============================] - 0s 613us/step - loss: 0.3640 - accuracy: 0.8741\n",
      "Epoch 13/50\n",
      "715/715 [==============================] - 0s 621us/step - loss: 0.3636 - accuracy: 0.8745\n",
      "Epoch 14/50\n",
      "715/715 [==============================] - 0s 614us/step - loss: 0.3708 - accuracy: 0.8707\n",
      "Epoch 15/50\n",
      "715/715 [==============================] - 0s 628us/step - loss: 0.3705 - accuracy: 0.8711\n",
      "Epoch 16/50\n",
      "715/715 [==============================] - 0s 619us/step - loss: 0.3669 - accuracy: 0.8718\n",
      "Epoch 17/50\n",
      "715/715 [==============================] - 1s 909us/step - loss: 0.3580 - accuracy: 0.8763\n",
      "Epoch 18/50\n",
      "715/715 [==============================] - 1s 915us/step - loss: 0.3625 - accuracy: 0.8737\n",
      "Epoch 19/50\n",
      "715/715 [==============================] - 1s 819us/step - loss: 0.3645 - accuracy: 0.8732\n",
      "Epoch 20/50\n",
      "715/715 [==============================] - 1s 724us/step - loss: 0.3615 - accuracy: 0.8747\n",
      "Epoch 21/50\n",
      "715/715 [==============================] - 0s 587us/step - loss: 0.3557 - accuracy: 0.8768\n",
      "Epoch 22/50\n",
      "715/715 [==============================] - 0s 668us/step - loss: 0.3653 - accuracy: 0.8730\n",
      "Epoch 23/50\n",
      "715/715 [==============================] - 1s 740us/step - loss: 0.3621 - accuracy: 0.8726\n",
      "Epoch 24/50\n",
      "715/715 [==============================] - 0s 620us/step - loss: 0.3689 - accuracy: 0.8697\n",
      "Epoch 25/50\n",
      "715/715 [==============================] - 0s 647us/step - loss: 0.3680 - accuracy: 0.8707\n",
      "Epoch 26/50\n",
      "715/715 [==============================] - 0s 687us/step - loss: 0.3670 - accuracy: 0.8712\n",
      "Epoch 27/50\n",
      "715/715 [==============================] - 0s 600us/step - loss: 0.3616 - accuracy: 0.8732\n",
      "Epoch 28/50\n",
      "715/715 [==============================] - 0s 629us/step - loss: 0.3637 - accuracy: 0.8738\n",
      "Epoch 29/50\n",
      "715/715 [==============================] - 1s 715us/step - loss: 0.3725 - accuracy: 0.8690\n",
      "Epoch 30/50\n",
      "715/715 [==============================] - 0s 675us/step - loss: 0.3697 - accuracy: 0.8692\n",
      "Epoch 31/50\n",
      "715/715 [==============================] - 0s 650us/step - loss: 0.3592 - accuracy: 0.8762\n",
      "Epoch 32/50\n",
      "715/715 [==============================] - 0s 670us/step - loss: 0.3643 - accuracy: 0.8732\n",
      "Epoch 33/50\n",
      "715/715 [==============================] - 0s 606us/step - loss: 0.3632 - accuracy: 0.8736\n",
      "Epoch 34/50\n",
      "715/715 [==============================] - 0s 599us/step - loss: 0.3622 - accuracy: 0.8745\n",
      "Epoch 35/50\n",
      "715/715 [==============================] - 1s 1ms/step - loss: 0.3563 - accuracy: 0.8765\n",
      "Epoch 36/50\n",
      "715/715 [==============================] - 1s 908us/step - loss: 0.3610 - accuracy: 0.8735\n",
      "Epoch 37/50\n",
      "715/715 [==============================] - 1s 968us/step - loss: 0.3611 - accuracy: 0.8734\n",
      "Epoch 38/50\n",
      "715/715 [==============================] - 1s 810us/step - loss: 0.3592 - accuracy: 0.8743\n",
      "Epoch 39/50\n",
      "715/715 [==============================] - 1s 864us/step - loss: 0.3582 - accuracy: 0.8753\n",
      "Epoch 40/50\n",
      "715/715 [==============================] - 1s 820us/step - loss: 0.3669 - accuracy: 0.8719\n",
      "Epoch 41/50\n",
      "715/715 [==============================] - 1s 719us/step - loss: 0.3634 - accuracy: 0.8724\n",
      "Epoch 42/50\n",
      "715/715 [==============================] - 0s 650us/step - loss: 0.3576 - accuracy: 0.8761\n",
      "Epoch 43/50\n",
      "715/715 [==============================] - 0s 616us/step - loss: 0.3594 - accuracy: 0.8755\n",
      "Epoch 44/50\n",
      "715/715 [==============================] - 1s 699us/step - loss: 0.3619 - accuracy: 0.8744\n",
      "Epoch 45/50\n",
      "715/715 [==============================] - 0s 664us/step - loss: 0.3611 - accuracy: 0.8743\n",
      "Epoch 46/50\n",
      "715/715 [==============================] - 0s 619us/step - loss: 0.3662 - accuracy: 0.8729\n",
      "Epoch 47/50\n",
      "715/715 [==============================] - 0s 691us/step - loss: 0.3647 - accuracy: 0.8726\n",
      "Epoch 48/50\n",
      "715/715 [==============================] - 0s 630us/step - loss: 0.3692 - accuracy: 0.8702\n",
      "Epoch 49/50\n",
      "715/715 [==============================] - 1s 702us/step - loss: 0.3624 - accuracy: 0.8728\n",
      "Epoch 50/50\n",
      "715/715 [==============================] - 0s 672us/step - loss: 0.3606 - accuracy: 0.8744\n",
      "239/239 - 0s - loss: 0.3667 - accuracy: 0.8731\n",
      "loss: 0.36673232913017273, accuracy: 0.8730971217155457\n"
     ]
    }
   ],
   "source": [
    "#define the model -deep neural net\n",
    "number_input_features= len(X_train_scaled[0])\n",
    "hidden_nodes_layer1= 10\n",
    "hidden_nodes_layer2= 5\n",
    "\n",
    "nn= tf.keras.models.Sequential()\n",
    "\n",
    "#first hidden layer\n",
    "nn.add(tf.keras.layers.Dense(units= hidden_nodes_layer1, input_dim= number_input_features, activation='relu'))\n",
    "\n",
    "#second hidden layer\n",
    "nn.add(tf.keras.layers.Dense(units=hidden_nodes_layer2, activation='relu'))\n",
    "\n",
    "#output layer\n",
    "nn.add(tf.keras.layers.Dense(units=1, activation='sigmoid'))\n",
    "\n",
    "#compile the sequential model and customize metrics\n",
    "nn.compile(loss='binary_crossentropy', optimizer='adam', metrics=['accuracy'])\n",
    "\n",
    "#train the model\n",
    "fit_model= nn.fit(X_train_scaled, y_train, epochs=50)\n",
    "\n",
    "#evaluate model using testing data\n",
    "model_loss, model_accuracy= nn.evaluate(X_test_scaled, y_test, verbose=2)\n",
    "print(f'loss: {model_loss}, accuracy: {model_accuracy}')"
   ]
  },
  {
   "cell_type": "code",
   "execution_count": null,
   "metadata": {},
   "outputs": [],
   "source": []
  }
 ]
}