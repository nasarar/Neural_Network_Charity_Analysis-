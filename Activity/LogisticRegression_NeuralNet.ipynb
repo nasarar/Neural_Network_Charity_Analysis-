{
 "metadata": {
  "language_info": {
   "codemirror_mode": {
    "name": "ipython",
    "version": 3
   },
   "file_extension": ".py",
   "mimetype": "text/x-python",
   "name": "python",
   "nbconvert_exporter": "python",
   "pygments_lexer": "ipython3",
   "version": "3.7.9"
  },
  "orig_nbformat": 2,
  "kernelspec": {
   "name": "pythondata",
   "display_name": "Python 3.7.9 64-bit ('PythonData': conda)"
  }
 },
 "nbformat": 4,
 "nbformat_minor": 2,
 "cells": [
  {
   "cell_type": "code",
   "execution_count": 1,
   "metadata": {},
   "outputs": [],
   "source": [
    "#import tendencies\n",
    "from sklearn.model_selection import train_test_split\n",
    "from sklearn.preprocessing import StandardScaler\n",
    "from sklearn.linear_model import LogisticRegression\n",
    "from sklearn.metrics import accuracy_score\n",
    "import pandas as pd\n",
    "import tensorflow as tf\n",
    "from path import Path"
   ]
  },
  {
   "cell_type": "code",
   "execution_count": 3,
   "metadata": {},
   "outputs": [
    {
     "output_type": "execute_result",
     "data": {
      "text/plain": [
       "   Pregnancies  Glucose  BloodPressure  SkinThickness  Insulin   BMI  \\\n",
       "0            6      148             72             35        0  33.6   \n",
       "1            1       85             66             29        0  26.6   \n",
       "2            8      183             64              0        0  23.3   \n",
       "3            1       89             66             23       94  28.1   \n",
       "4            0      137             40             35      168  43.1   \n",
       "\n",
       "   DiabetesPedigreeFunction  Age  Outcome  \n",
       "0                     0.627   50        1  \n",
       "1                     0.351   31        0  \n",
       "2                     0.672   32        1  \n",
       "3                     0.167   21        0  \n",
       "4                     2.288   33        1  "
      ],
      "text/html": "<div>\n<style scoped>\n    .dataframe tbody tr th:only-of-type {\n        vertical-align: middle;\n    }\n\n    .dataframe tbody tr th {\n        vertical-align: top;\n    }\n\n    .dataframe thead th {\n        text-align: right;\n    }\n</style>\n<table border=\"1\" class=\"dataframe\">\n  <thead>\n    <tr style=\"text-align: right;\">\n      <th></th>\n      <th>Pregnancies</th>\n      <th>Glucose</th>\n      <th>BloodPressure</th>\n      <th>SkinThickness</th>\n      <th>Insulin</th>\n      <th>BMI</th>\n      <th>DiabetesPedigreeFunction</th>\n      <th>Age</th>\n      <th>Outcome</th>\n    </tr>\n  </thead>\n  <tbody>\n    <tr>\n      <th>0</th>\n      <td>6</td>\n      <td>148</td>\n      <td>72</td>\n      <td>35</td>\n      <td>0</td>\n      <td>33.6</td>\n      <td>0.627</td>\n      <td>50</td>\n      <td>1</td>\n    </tr>\n    <tr>\n      <th>1</th>\n      <td>1</td>\n      <td>85</td>\n      <td>66</td>\n      <td>29</td>\n      <td>0</td>\n      <td>26.6</td>\n      <td>0.351</td>\n      <td>31</td>\n      <td>0</td>\n    </tr>\n    <tr>\n      <th>2</th>\n      <td>8</td>\n      <td>183</td>\n      <td>64</td>\n      <td>0</td>\n      <td>0</td>\n      <td>23.3</td>\n      <td>0.672</td>\n      <td>32</td>\n      <td>1</td>\n    </tr>\n    <tr>\n      <th>3</th>\n      <td>1</td>\n      <td>89</td>\n      <td>66</td>\n      <td>23</td>\n      <td>94</td>\n      <td>28.1</td>\n      <td>0.167</td>\n      <td>21</td>\n      <td>0</td>\n    </tr>\n    <tr>\n      <th>4</th>\n      <td>0</td>\n      <td>137</td>\n      <td>40</td>\n      <td>35</td>\n      <td>168</td>\n      <td>43.1</td>\n      <td>2.288</td>\n      <td>33</td>\n      <td>1</td>\n    </tr>\n  </tbody>\n</table>\n</div>"
     },
     "metadata": {},
     "execution_count": 3
    }
   ],
   "source": [
    "#import dataset\n",
    "file_path= Path('diabetes.csv')\n",
    "diabetes_df= pd.read_csv(file_path)\n",
    "diabetes_df.head()"
   ]
  },
  {
   "source": [
    "Split features and target data then split into train and test sets"
   ],
   "cell_type": "markdown",
   "metadata": {}
  },
  {
   "cell_type": "code",
   "execution_count": 4,
   "metadata": {},
   "outputs": [],
   "source": [
    "#remove diabetes outcome target from features data\n",
    "y= diabetes_df.Outcome\n",
    "X= diabetes_df.drop(columns='Outcome')\n",
    "\n",
    "#split into training/test datasets\n",
    "X_train, X_test, y_train, y_test= train_test_split(X,y, random_state=42, stratify=y )"
   ]
  },
  {
   "source": [
    "standardize numerical values for neural network"
   ],
   "cell_type": "markdown",
   "metadata": {}
  },
  {
   "cell_type": "code",
   "execution_count": 5,
   "metadata": {},
   "outputs": [],
   "source": [
    "#create standard scaler instance\n",
    "scaler= StandardScaler()\n",
    "\n",
    "#fit the standardscaler\n",
    "X_scaler= scaler.fit(X_train)\n",
    "\n",
    "#scale the data\n",
    "X_train_scaled= X_scaler.transform(X_train)\n",
    "X_test_scaled= X_scaler.transform(X_test)"
   ]
  },
  {
   "source": [
    "train and evaluate models\n",
    "\n",
    "start with logistic regression model"
   ],
   "cell_type": "markdown",
   "metadata": {}
  },
  {
   "cell_type": "code",
   "execution_count": 6,
   "metadata": {},
   "outputs": [
    {
     "output_type": "stream",
     "name": "stdout",
     "text": [
      "logistic regression model accuracy: 0.729\n"
     ]
    }
   ],
   "source": [
    "#define the logistic regression model\n",
    "log_classifier= LogisticRegression(solver='lbfgs', max_iter=200)\n",
    "\n",
    "#train the model\n",
    "log_classifier.fit(X_train, y_train)\n",
    "\n",
    "#evaluate the model\n",
    "y_pred= log_classifier.predict(X_test)\n",
    "print(f'logistic regression model accuracy: {accuracy_score(y_test, y_pred):.3f}')"
   ]
  },
  {
   "source": [
    "build, compile, evaluate neural network model"
   ],
   "cell_type": "markdown",
   "metadata": {}
  },
  {
   "cell_type": "code",
   "execution_count": 9,
   "metadata": {},
   "outputs": [
    {
     "output_type": "stream",
     "name": "stdout",
     "text": [
      "Epoch 1/50\n",
      "18/18 [==============================] - 0s 997us/step - loss: 0.6926 - accuracy: 0.6232\n",
      "Epoch 2/50\n",
      "18/18 [==============================] - 0s 1ms/step - loss: 0.6675 - accuracy: 0.6246\n",
      "Epoch 3/50\n",
      "18/18 [==============================] - 0s 1ms/step - loss: 0.5878 - accuracy: 0.7008\n",
      "Epoch 4/50\n",
      "18/18 [==============================] - 0s 1ms/step - loss: 0.5754 - accuracy: 0.7102\n",
      "Epoch 5/50\n",
      "18/18 [==============================] - 0s 997us/step - loss: 0.5647 - accuracy: 0.7387\n",
      "Epoch 6/50\n",
      "18/18 [==============================] - 0s 1ms/step - loss: 0.5453 - accuracy: 0.7674\n",
      "Epoch 7/50\n",
      "18/18 [==============================] - 0s 939us/step - loss: 0.5320 - accuracy: 0.7570\n",
      "Epoch 8/50\n",
      "18/18 [==============================] - 0s 939us/step - loss: 0.5377 - accuracy: 0.7398\n",
      "Epoch 9/50\n",
      "18/18 [==============================] - 0s 880us/step - loss: 0.5486 - accuracy: 0.7338\n",
      "Epoch 10/50\n",
      "18/18 [==============================] - 0s 939us/step - loss: 0.4810 - accuracy: 0.7811\n",
      "Epoch 11/50\n",
      "18/18 [==============================] - 0s 880us/step - loss: 0.4940 - accuracy: 0.7677\n",
      "Epoch 12/50\n",
      "18/18 [==============================] - 0s 880us/step - loss: 0.5090 - accuracy: 0.7469\n",
      "Epoch 13/50\n",
      "18/18 [==============================] - 0s 821us/step - loss: 0.4856 - accuracy: 0.7839\n",
      "Epoch 14/50\n",
      "18/18 [==============================] - 0s 821us/step - loss: 0.4442 - accuracy: 0.8049\n",
      "Epoch 15/50\n",
      "18/18 [==============================] - 0s 763us/step - loss: 0.4828 - accuracy: 0.7773\n",
      "Epoch 16/50\n",
      "18/18 [==============================] - 0s 880us/step - loss: 0.4652 - accuracy: 0.7826\n",
      "Epoch 17/50\n",
      "18/18 [==============================] - 0s 821us/step - loss: 0.4442 - accuracy: 0.7973\n",
      "Epoch 18/50\n",
      "18/18 [==============================] - 0s 821us/step - loss: 0.4368 - accuracy: 0.8021\n",
      "Epoch 19/50\n",
      "18/18 [==============================] - 0s 763us/step - loss: 0.4570 - accuracy: 0.7926\n",
      "Epoch 20/50\n",
      "18/18 [==============================] - 0s 939us/step - loss: 0.4367 - accuracy: 0.7995\n",
      "Epoch 21/50\n",
      "18/18 [==============================] - 0s 939us/step - loss: 0.4596 - accuracy: 0.7942\n",
      "Epoch 22/50\n",
      "18/18 [==============================] - 0s 763us/step - loss: 0.4773 - accuracy: 0.7721\n",
      "Epoch 23/50\n",
      "18/18 [==============================] - 0s 1ms/step - loss: 0.4550 - accuracy: 0.7786\n",
      "Epoch 24/50\n",
      "18/18 [==============================] - 0s 880us/step - loss: 0.4559 - accuracy: 0.7833\n",
      "Epoch 25/50\n",
      "18/18 [==============================] - 0s 939us/step - loss: 0.4302 - accuracy: 0.7982\n",
      "Epoch 26/50\n",
      "18/18 [==============================] - 0s 880us/step - loss: 0.4536 - accuracy: 0.7874\n",
      "Epoch 27/50\n",
      "18/18 [==============================] - 0s 880us/step - loss: 0.4662 - accuracy: 0.7775\n",
      "Epoch 28/50\n",
      "18/18 [==============================] - 0s 880us/step - loss: 0.4305 - accuracy: 0.7972\n",
      "Epoch 29/50\n",
      "18/18 [==============================] - 0s 763us/step - loss: 0.4410 - accuracy: 0.7821\n",
      "Epoch 30/50\n",
      "18/18 [==============================] - 0s 880us/step - loss: 0.4172 - accuracy: 0.8124\n",
      "Epoch 31/50\n",
      "18/18 [==============================] - 0s 821us/step - loss: 0.4596 - accuracy: 0.7774\n",
      "Epoch 32/50\n",
      "18/18 [==============================] - 0s 821us/step - loss: 0.4225 - accuracy: 0.7890\n",
      "Epoch 33/50\n",
      "18/18 [==============================] - 0s 763us/step - loss: 0.4205 - accuracy: 0.8145\n",
      "Epoch 34/50\n",
      "18/18 [==============================] - 0s 763us/step - loss: 0.4201 - accuracy: 0.7880\n",
      "Epoch 35/50\n",
      "18/18 [==============================] - 0s 763us/step - loss: 0.3989 - accuracy: 0.8176\n",
      "Epoch 36/50\n",
      "18/18 [==============================] - 0s 851us/step - loss: 0.4205 - accuracy: 0.8081\n",
      "Epoch 37/50\n",
      "18/18 [==============================] - 0s 880us/step - loss: 0.4594 - accuracy: 0.7742\n",
      "Epoch 38/50\n",
      "18/18 [==============================] - 0s 821us/step - loss: 0.4184 - accuracy: 0.8075\n",
      "Epoch 39/50\n",
      "18/18 [==============================] - 0s 704us/step - loss: 0.4422 - accuracy: 0.7910\n",
      "Epoch 40/50\n",
      "18/18 [==============================] - 0s 851us/step - loss: 0.4362 - accuracy: 0.7786\n",
      "Epoch 41/50\n",
      "18/18 [==============================] - 0s 939us/step - loss: 0.4541 - accuracy: 0.8001\n",
      "Epoch 42/50\n",
      "18/18 [==============================] - 0s 821us/step - loss: 0.4319 - accuracy: 0.7943\n",
      "Epoch 43/50\n",
      "18/18 [==============================] - 0s 821us/step - loss: 0.4444 - accuracy: 0.7964\n",
      "Epoch 44/50\n",
      "18/18 [==============================] - 0s 821us/step - loss: 0.4129 - accuracy: 0.8015\n",
      "Epoch 45/50\n",
      "18/18 [==============================] - 0s 880us/step - loss: 0.4234 - accuracy: 0.8098\n",
      "Epoch 46/50\n",
      "18/18 [==============================] - 0s 821us/step - loss: 0.4325 - accuracy: 0.7904\n",
      "Epoch 47/50\n",
      "18/18 [==============================] - 0s 880us/step - loss: 0.4322 - accuracy: 0.7961\n",
      "Epoch 48/50\n",
      "18/18 [==============================] - 0s 763us/step - loss: 0.4215 - accuracy: 0.7868\n",
      "Epoch 49/50\n",
      "18/18 [==============================] - 0s 821us/step - loss: 0.4201 - accuracy: 0.8064\n",
      "Epoch 50/50\n",
      "18/18 [==============================] - 0s 763us/step - loss: 0.4313 - accuracy: 0.8083\n",
      "6/6 - 0s - loss: 0.4907 - accuracy: 0.7344\n",
      "loss:0.49065151810646057, accuracy:0.734375\n"
     ]
    }
   ],
   "source": [
    "#define the basic neural network model\n",
    "nn_model= tf.keras.models.Sequential()\n",
    "nn_model.add(tf.keras.layers.Dense(units=16, activation='relu', input_dim=8))\n",
    "nn_model.add(tf.keras.layers.Dense(units=1, activation='sigmoid'))\n",
    "\n",
    "#compile the sequential model together and customize metrics\n",
    "nn_model.compile(loss='binary_crossentropy', optimizer='adam', metrics=['accuracy'])\n",
    "\n",
    "#train the model\n",
    "fit_model= nn_model.fit(X_train_scaled, y_train, epochs=50)\n",
    "\n",
    "#evaluate the model\n",
    "model_loss, model_accuracy= nn_model.evaluate(X_test_scaled, y_test, verbose=2)\n",
    "print(f'loss:{model_loss}, accuracy:{model_accuracy}')"
   ]
  },
  {
   "cell_type": "code",
   "execution_count": null,
   "metadata": {},
   "outputs": [],
   "source": []
  }
 ]
}